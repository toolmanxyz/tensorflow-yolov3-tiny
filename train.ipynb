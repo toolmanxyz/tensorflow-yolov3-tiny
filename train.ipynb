{
  "cells": [
    {
      "cell_type": "code",
      "execution_count": null,
      "metadata": {
        "colab": {
          "base_uri": "https://localhost:8080/"
        },
        "id": "lOlx7dBheKPr",
        "outputId": "8861e300-fe04-4132-cc6a-f38f35427f03"
      },
      "outputs": [],
      "source": [
        "# 連接 Google Drive\n",
        "from google.colab import drive\n",
        "drive.mount('/content/drive')"
      ]
    },
    {
      "cell_type": "code",
      "execution_count": null,
      "metadata": {
        "colab": {
          "base_uri": "https://localhost:8080/"
        },
        "id": "uPoD9yG9d-0j",
        "outputId": "c788433d-5344-4a92-f8d7-8a0077ca579c"
      },
      "outputs": [],
      "source": [
        "%cd /content\n",
        "!rm -rf tf\n",
        "!git clone https://github.com/hunglc007/tensorflow-yolov4-tflite.git tf\n",
        "# !cp /content/drive/MyDrive/yolo-obj_last_7.weights /content/tf/data/"
      ]
    },
    {
      "cell_type": "code",
      "execution_count": null,
      "metadata": {
        "id": "5vytMLW8q42P"
      },
      "outputs": [],
      "source": [
        "%cd /content/\n",
        "!rm -rf ./OIDv4_ToolKit/OID/Dataset/\n",
        "!git clone https://github.com/theAIGuysCode/OIDv4_ToolKit.git\n",
        "%cd ./OIDv4_ToolKit/\n",
        "!pip install -r ./requirements.txt\n",
        "!python ./main.py downloader --classes Person --type_csv train --multiclasses 1 --limit 10 -y\n",
        "!python ./main.py downloader --classes Person --type_csv test --multiclasses 1 --limit 1 -y\n",
        "!printf \"Person\" > classes.txt\n",
        "!python convert_annotations.py"
      ]
    },
    {
      "cell_type": "code",
      "execution_count": null,
      "metadata": {
        "colab": {
          "base_uri": "https://localhost:8080/"
        },
        "id": "6UCP9zefrXvl",
        "outputId": "8f4ac697-fc97-4b1f-e909-e228eb013a5d"
      },
      "outputs": [],
      "source": [
        "%cd /content/\n",
        "!rm -rf ./TensorFlow-2.x-YOLOv3/\n",
        "!git clone https://github.com/pythonlessons/TensorFlow-2.x-YOLOv3.git\n",
        "\n",
        "# !python /content/TensorFlow-2.x-YOLOv3/tools/oid_to_pascal_voc_xml.py\n",
        "\n",
        "%cd /content/TensorFlow-2.x-YOLOv3\n",
        "!rm -rf ./custom_dataset/train/*\n",
        "!rm -rf ./custom_dataset/test/*\n",
        "\n",
        "!mkdir -p /content/TensorFlow-2.x-YOLOv3/custom_dataset/train/\n",
        "!mkdir -p /content/TensorFlow-2.x-YOLOv3/custom_dataset/test/\n",
        "\n",
        "!cp -r /content/OIDv4_ToolKit/OID/Dataset/train/Person/* /content/TensorFlow-2.x-YOLOv3/custom_dataset/train/\n",
        "!cp -r /content/OIDv4_ToolKit/OID/Dataset/test/Person/* /content/TensorFlow-2.x-YOLOv3/custom_dataset/test/\n",
        "\n",
        "!rm -rf ./model_data/license_plate_names.txt\n",
        "!rm -rf ./model_data/license_plate_test.txt\n",
        "!rm -rf ./model_data/license_plate_train.txt"
      ]
    },
    {
      "cell_type": "code",
      "execution_count": null,
      "metadata": {
        "colab": {
          "base_uri": "https://localhost:8080/"
        },
        "id": "FrlyvgZkjVTj",
        "outputId": "076c0ef1-9cc1-4c98-b814-f71d0ccf3bee"
      },
      "outputs": [],
      "source": [
        "!rm -rf /content/CAM1-24-video\n",
        "!unrar x /content/drive/MyDrive/CAM1-24-4min.mp4.rar /content/"
      ]
    },
    {
      "cell_type": "code",
      "execution_count": null,
      "metadata": {
        "colab": {
          "base_uri": "https://localhost:8080/"
        },
        "id": "ezjNi6TtBOg4",
        "outputId": "054097da-0553-4e69-85d4-e974ec24a1c2"
      },
      "outputs": [],
      "source": [
        "# TEST\n",
        "!ls /content/CAM1-24-4min.mp4"
      ]
    },
    {
      "cell_type": "code",
      "execution_count": null,
      "metadata": {
        "colab": {
          "base_uri": "https://localhost:8080/"
        },
        "id": "Yit5LqQyGjlV",
        "outputId": "2182eda2-c4e6-4e4f-b60b-c4c8913995a5"
      },
      "outputs": [],
      "source": [
        "# %cd /content/OIDv4_ToolKit/OID/Dataset/train/Person/\n",
        "%cd /content/CAM1-24-4min.mp4/img/\n",
        "# !find \"$(pwd)\" -name \"*.jpg\" > /kaggle/working/TensorFlow-2.x-YOLOv3/model_data/license_plate_train.txt\n",
        "# !ls -d -1 \"$PWD/\"*.* | grep jpg > /content/TensorFlow-2.x-YOLOv3/model_data/license_plate_train.txt\n",
        "!ls -d -1 \"$PWD/\"*.* | grep png > /content/TensorFlow-2.x-YOLOv3/model_data/license_plate_train.txt\n",
        "\n",
        "# %cd /content/OIDv4_ToolKit/OID/Dataset/test/Person/\n",
        "%cd /content/CAM1-24-4min.mp4/img/\n",
        "# !find \"$(pwd)\" -name \"*.jpg\" > /kaggle/working/TensorFlow-2.x-YOLOv3/model_data/license_plate_test.txt\n",
        "!ls -d -1 \"$PWD/\"*.* | grep png > /content/TensorFlow-2.x-YOLOv3/model_data/license_plate_test.txt"
      ]
    },
    {
      "cell_type": "code",
      "execution_count": null,
      "metadata": {
        "colab": {
          "base_uri": "https://localhost:8080/"
        },
        "id": "klGBIOcZwHQG",
        "outputId": "3522bee8-a261-444a-8cd8-abec09366fab"
      },
      "outputs": [],
      "source": [
        "%cd /content/\n",
        "!rm -rf /content/darknet/\n",
        "!git clone https://github.com/AlexeyAB/darknet.git\n",
        "\n",
        "%cd /content/darknet/\n",
        "!cp cfg/yolov3-tiny.cfg cfg/yolo-obj.cfg\n",
        "\n",
        "!sed -i \"s/batch=1/batch=64/\" cfg/yolo-obj.cfg\n",
        "!sed -i \"s/subdivisions=1/subdivisions=2/\" cfg/yolo-obj.cfg\n",
        "!sed -i \"s/max_batches = 500200/max_batches = 10000/\" cfg/yolo-obj.cfg\n",
        "!sed -i \"s/steps=400000,450000/steps=800,900/\" cfg/yolo-obj.cfg\n",
        "!sed -i \"s/classes=80/classes=1/g\" cfg/yolo-obj.cfg\n",
        "!sed -i \"s/filters=255/filters=18/g\" cfg/yolo-obj.cfg\n",
        "!sed -i \"s/mosaic=1/mosaic=0/g\" cfg/yolo-obj.cfg"
      ]
    },
    {
      "cell_type": "code",
      "execution_count": 8,
      "metadata": {
        "id": "cFQQ4Ttiyvih"
      },
      "outputs": [],
      "source": [
        "!printf \"person\" > /content/darknet/build/darknet/x64/data/obj.names\n",
        "!printf \"classes = 1\\ntrain  = /content/darknet/build/darknet/x64/data/train.txt\\nvalid  = /content/darknet/build/darknet/x64/data/test.txt\\nnames = /content/darknet/build/darknet/x64/data/obj.names\\nbackup = backup/\" > /content/darknet/build/darknet/x64/data/obj.data"
      ]
    },
    {
      "cell_type": "code",
      "execution_count": null,
      "metadata": {
        "colab": {
          "base_uri": "https://localhost:8080/"
        },
        "id": "Xdt3nj3JzU9o",
        "outputId": "33f0155f-63e2-4f84-e895-a80d030d4d3c"
      },
      "outputs": [],
      "source": [
        "!rm -rf /content/darknet/build/darknet/x64/data/obj/\n",
        "!mkdir -p /content/darknet/build/darknet/x64/data/obj/\n",
        "!cp -r /content/OIDv4_ToolKit/OID/Dataset/train/Person/* /content/darknet/build/darknet/x64/data/obj/\n",
        "!cp -r /content/OIDv4_ToolKit/OID/Dataset/test/Person/* /content/darknet/build/darknet/x64/data/obj/\n",
        "!cp /content/TensorFlow-2.x-YOLOv3/model_data/license_plate_train.txt /content/darknet/build/darknet/x64/data/train.txt\n",
        "!cp /content/TensorFlow-2.x-YOLOv3/model_data/license_plate_test.txt /content/darknet/build/darknet/x64/data/test.txt"
      ]
    },
    {
      "cell_type": "code",
      "execution_count": 10,
      "metadata": {
        "id": "b8jpjIaG6Y6-"
      },
      "outputs": [],
      "source": [
        "!cp /content/drive/MyDrive/yolov3-tiny.conv.11 /content/darknet/build/darknet/x64/"
      ]
    },
    {
      "cell_type": "code",
      "execution_count": null,
      "metadata": {
        "id": "RfT6Zt_X85r7"
      },
      "outputs": [],
      "source": [
        "%cd /content/darknet/\n",
        "!sed -i \"s/GPU=0/GPU=1/\" Makefile\n",
        "!sed -i \"s/CUDNN=0/CUDNN=1/\" Makefile\n",
        "!sed -i \"s/CUDNN_HALF=0/CUDNN_HALF=1/\" Makefile\n",
        "!sed -i \"s/OPENCV=1/OPENCV=0/\" Makefile\n",
        "!make"
      ]
    },
    {
      "cell_type": "code",
      "execution_count": null,
      "metadata": {
        "colab": {
          "base_uri": "https://localhost:8080/"
        },
        "id": "cavKxDvd62aj",
        "outputId": "9f323239-52db-4b7e-eb82-2a20a6e957f9"
      },
      "outputs": [],
      "source": [
        "%cd /content/darknet/\n",
        "# !./darknet detector train /content/darknet/build/darknet/x64/data/obj.data /content/darknet/cfg/yolo-obj.cfg /content/darknet/backup/yolo-obj_last.weights\n",
        "# !./darknet detector train /content/darknet/build/darknet/x64/data/obj.data /content/darknet/cfg/yolo-obj.cfg /content/drive/MyDrive/yolo-obj_last_7.weights\n",
        "!./darknet detector train /content/darknet/build/darknet/x64/data/obj.data /content/darknet/cfg/yolo-obj.cfg /content/drive/MyDrive/yolov3-tiny.conv.11"
      ]
    },
    {
      "cell_type": "code",
      "execution_count": null,
      "metadata": {
        "colab": {
          "background_save": true
        },
        "id": "yfiV1hTX5759"
      },
      "outputs": [],
      "source": [
        "!printf \"person\" > /content/tf/data/class.names"
      ]
    },
    {
      "cell_type": "code",
      "execution_count": null,
      "metadata": {
        "colab": {
          "background_save": true
        },
        "id": "tT0AXtKy9SkO"
      },
      "outputs": [],
      "source": [
        "%cd /content/tf/\n",
        "!python save_model.py --weights /content/darknet/backup/yolo-obj_last.weights --output ./checkpoints/yolov4-416 --input_size 416 --model yolov3 --tiny true"
      ]
    },
    {
      "cell_type": "code",
      "execution_count": null,
      "metadata": {
        "colab": {
          "background_save": true
        },
        "id": "LOhxk8JC7EuT"
      },
      "outputs": [],
      "source": [
        "%cd /content/tf/\n",
        "!python detect.py --weights ./checkpoints/yolov4-416 --size 608 --model yolov4 --image ./data/kite.jpg"
      ]
    },
    {
      "cell_type": "code",
      "execution_count": null,
      "metadata": {
        "colab": {
          "background_save": true
        },
        "id": "Myzd-ihq7970"
      },
      "outputs": [],
      "source": [
        "%cd /content/tf/\n",
        "!python detectvideo.py --weights ./checkpoints/yolov4-416 --size 608 --model yolov4 --output ./road-1.mp4"
      ]
    },
    {
      "cell_type": "code",
      "execution_count": null,
      "metadata": {
        "colab": {
          "background_save": true
        },
        "id": "9ElJa7nCEMWi"
      },
      "outputs": [],
      "source": [
        "!ls -la /content/tf/checkpoints/yolov4-416/"
      ]
    },
    {
      "cell_type": "code",
      "execution_count": null,
      "metadata": {
        "colab": {
          "background_save": true
        },
        "id": "Xumem1-EIIZu"
      },
      "outputs": [],
      "source": [
        "!zip -r yolov4-416.zip /content/tf/checkpoints/yolov4-416/"
      ]
    },
    {
      "cell_type": "markdown",
      "metadata": {
        "id": "Nt-WGZgBT4MH"
      },
      "source": [
        "==================================================================================================================="
      ]
    },
    {
      "cell_type": "code",
      "execution_count": null,
      "metadata": {
        "colab": {
          "background_save": true
        },
        "id": "gJRJMEG1mDeJ"
      },
      "outputs": [],
      "source": [
        "!sed -i \"s/rc0//\" requirements-gpu.txt"
      ]
    },
    {
      "cell_type": "code",
      "execution_count": null,
      "metadata": {
        "colab": {
          "background_save": true
        },
        "id": "1BksKsBOl4Pp"
      },
      "outputs": [],
      "source": [
        "!pip3 install -r requirements-gpu.txt"
      ]
    },
    {
      "cell_type": "code",
      "execution_count": null,
      "metadata": {
        "colab": {
          "background_save": true
        },
        "id": "s8Oq8uneTrr0"
      },
      "outputs": [],
      "source": [
        "# 152\n",
        "!sed -i \"s/c1, c2 = (coor\\[1\\], coor\\[0\\]), (coor\\[3\\], coor\\[2\\])/c1, c2 = (int(coor\\[1\\]), int(coor\\[0\\])), (int(coor\\[3\\]), int(coor\\[2\\]))/g\" /content/tf/core/utils.py\n",
        "#159\n",
        "!sed -i \"s/cv2.rectangle(image, c1, (np.float32(c3\\[0\\]), np.float32(c3\\[1\\])), bbox_color, -1) #filled/cv2.rectangle(image, c1, (int(np.float32(c3\\[0\\])), int(np.float32(c3\\[1\\]))), bbox_color, -1)/\" /content/tf/core/utils.py\n",
        "#161\n",
        "!sed -i \"s/cv2.putText(image, bbox_mess, (c1\\[0\\], np.float32(c1\\[1\\] - 2)), cv2.FONT_HERSHEY_SIMPLEX,/cv2.putText(image, bbox_mess, (c1\\[0\\], int(np.float32(c1\\[1\\] - 2))), cv2.FONT_HERSHEY_SIMPLEX,/\" /content/tf/core/utils.py\n",
        "#162\n",
        "!sed -i \"s/fontScale, (0, 0, 0), bbox_thick \\/\\/ 2, lineType=cv2.LINE_AA)/fontScale, (0, 0, 0), bbox_thick \\/\\/ 2, lineType=cv2.LINE_AA)/\" /content/tf/core/utils.py"
      ]
    },
    {
      "cell_type": "code",
      "execution_count": null,
      "metadata": {
        "colab": {
          "background_save": true
        },
        "id": "gReZv0hjT3U9"
      },
      "outputs": [],
      "source": [
        "!printf \"person\" > /content/tf/data/class.names\n",
        "!sed -i \"s/.\\/data\\/classes\\/coco.names/.\\/data\\/class.names/\" /content/tf/core/config.py"
      ]
    },
    {
      "cell_type": "code",
      "execution_count": null,
      "metadata": {
        "colab": {
          "background_save": true
        },
        "id": "MUhWN83VUHwI"
      },
      "outputs": [],
      "source": [
        "%cd /content/tf\n",
        "# Convert darknet weights to tensorflow\n",
        "!python save_model.py --weights ./checkpoints/yolov4-416 --output ./checkpoints/yolov4-416 --input_size 608 --model yolov4"
      ]
    },
    {
      "cell_type": "code",
      "execution_count": null,
      "metadata": {
        "colab": {
          "background_save": true
        },
        "id": "eoN8TdLmUDJz"
      },
      "outputs": [],
      "source": [
        "!rm -rf ./VIRAT_S_010204_05_000856_000890_1.mp4"
      ]
    },
    {
      "cell_type": "code",
      "execution_count": null,
      "metadata": {
        "colab": {
          "background_save": true
        },
        "id": "lxqoqgBwUZpB"
      },
      "outputs": [],
      "source": [
        "!python detectvideo.py --weights ./checkpoints/yolov4-416 --size 416 --model yolov3 --tiny true --video /content/drive/MyDrive/VIRAT_S_010204_05_000856_000890.mp4 --dis_cv2_window True --output ./VIRAT_S_010204_05_000856_000890_1.mp4\n",
        "# VIRAT_S_010204_05_000856_000890.mp4"
      ]
    },
    {
      "cell_type": "code",
      "execution_count": null,
      "metadata": {
        "colab": {
          "background_save": true
        },
        "id": "IgZdamxkU0uh"
      },
      "outputs": [],
      "source": [
        "!python detect.py --weights ./checkpoints/yolov4-416 --size 608 --model yolov4 --image ./data/kite.jpg --output ./result.png"
      ]
    },
    {
      "cell_type": "markdown",
      "metadata": {
        "id": "ucFL5exhyIhN"
      },
      "source": [
        "================================="
      ]
    },
    {
      "cell_type": "code",
      "execution_count": null,
      "metadata": {
        "colab": {
          "background_save": true
        },
        "id": "GuUcaNUxyH90"
      },
      "outputs": [],
      "source": [
        "%cd /content\n",
        "!rm -rf ai\n",
        "!git clone https://github.com/theAIGuysCode/yolov4-custom-functions.git ai\n",
        "%cd ./ai/"
      ]
    },
    {
      "cell_type": "code",
      "execution_count": null,
      "metadata": {
        "id": "6nAebj57yVZc"
      },
      "outputs": [],
      "source": [
        "!pip install -r requirements-gpu.txt"
      ]
    },
    {
      "cell_type": "code",
      "execution_count": null,
      "metadata": {
        "id": "pGLae9LOykN5"
      },
      "outputs": [],
      "source": [
        "!python detect_video.py --weights /content/tf/checkpoints/yolov4-416 --size 608 --model yolov4 --video ./data/video/video.mp4 --output ./results.avi --dont_show True"
      ]
    },
    {
      "cell_type": "markdown",
      "metadata": {
        "id": "1hIRKuIrJadG"
      },
      "source": [
        "============================ TEST DEMO ============================"
      ]
    },
    {
      "cell_type": "code",
      "execution_count": null,
      "metadata": {
        "id": "UWDi5l_oNppx"
      },
      "outputs": [],
      "source": [
        "!find . -name predictions.jpg"
      ]
    },
    {
      "cell_type": "code",
      "execution_count": null,
      "metadata": {
        "id": "_M3dmXzTJhWq"
      },
      "outputs": [],
      "source": [
        "# !./darknet detector demo /content/darknet/build/darknet/x64/data/obj.data cfg/yolo-obj.cfg /content/drive/MyDrive/yolo-obj_last_3.weights -ext_output test.mp4\n",
        "!./darknet detector test /content/darknet/build/darknet/x64/data/obj.data cfg/yolo-obj.cfg /content/drive/MyDrive/yolo-obj_last_3.weights data/person.jpg -dont_show"
      ]
    }
  ],
  "metadata": {
    "accelerator": "GPU",
    "colab": {
      "collapsed_sections": [],
      "name": "tensorflow-yolov4-tflite",
      "provenance": []
    },
    "kernelspec": {
      "display_name": "Python 3",
      "name": "python3"
    },
    "language_info": {
      "name": "python"
    }
  },
  "nbformat": 4,
  "nbformat_minor": 0
}
